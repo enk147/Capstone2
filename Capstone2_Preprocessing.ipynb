{
 "cells": [
  {
   "cell_type": "markdown",
   "metadata": {},
   "source": [
    "# Capstone 2: Preprocessing"
   ]
  },
  {
   "cell_type": "code",
   "execution_count": 1,
   "metadata": {},
   "outputs": [],
   "source": [
    "# imports\n",
    "import pandas as pd\n",
    "import matplotlib.pyplot as plt\n",
    "import seaborn as sns\n",
    "from sklearn.preprocessing import LabelEncoder\n",
    "from sklearn.preprocessing import StandardScaler\n",
    "from sklearn.model_selection import train_test_split"
   ]
  },
  {
   "cell_type": "code",
   "execution_count": 2,
   "metadata": {},
   "outputs": [
    {
     "name": "stdout",
     "output_type": "stream",
     "text": [
      "   Unnamed: 0  tree_id  tree_dbh curb_loc health       spc_common steward  \\\n",
      "0           0   180683         3   OnCurb   Fair        red maple    None   \n",
      "1           1   200540        21   OnCurb   Fair          pin oak    None   \n",
      "2           2   204026         3   OnCurb   Good      honeylocust    1or2   \n",
      "3           3   204337        10   OnCurb   Good      honeylocust    None   \n",
      "4           4   189565        21   OnCurb   Good  American linden    None   \n",
      "\n",
      "  guards  sidewalk problems  ... root_other trunk_wire trnk_light trnk_other  \\\n",
      "0   None  NoDamage     None  ...         No         No         No         No   \n",
      "1   None    Damage   Stones  ...         No         No         No         No   \n",
      "2   None    Damage     None  ...         No         No         No         No   \n",
      "3   None    Damage   Stones  ...         No         No         No         No   \n",
      "4   None    Damage   Stones  ...         No         No         No         No   \n",
      "\n",
      "  brch_light brch_shoe brch_other   borough   latitude  longitude  \n",
      "0         No        No         No    Queens  40.723092 -73.844215  \n",
      "1         No        No         No    Queens  40.794111 -73.818679  \n",
      "2         No        No         No  Brooklyn  40.717581 -73.936608  \n",
      "3         No        No         No  Brooklyn  40.713537 -73.934456  \n",
      "4         No        No         No  Brooklyn  40.666778 -73.975979  \n",
      "\n",
      "[5 rows x 22 columns]\n"
     ]
    }
   ],
   "source": [
    "# read data\n",
    "data = pd.read_csv('exploratory_data_analysis.csv')\n",
    "print(data.head())"
   ]
  },
  {
   "cell_type": "code",
   "execution_count": 3,
   "metadata": {},
   "outputs": [],
   "source": [
    "# drop unnamed first column\n",
    "data = data.drop(data.columns[0], axis=1)\n",
    "\n",
    "# drop problems column\n",
    "data = data.drop('problems', axis=1)\n",
    "\n",
    "# set tree_id as index\n",
    "data = data.set_index('tree_id')"
   ]
  },
  {
   "cell_type": "markdown",
   "metadata": {},
   "source": [
    "## Scale numeric variable"
   ]
  },
  {
   "cell_type": "code",
   "execution_count": 4,
   "metadata": {},
   "outputs": [
    {
     "data": {
      "image/png": "[encoded data removed]",
      "text/plain": [
       "<Figure size 432x288 with 1 Axes>"
      ]
     },
     "metadata": {
      "needs_background": "light"
     },
     "output_type": "display_data"
    }
   ],
   "source": [
    "# check tree_dbh distribution\n",
    "sns.boxplot(x='tree_dbh', data=data)\n",
    "plt.show()"
   ]
  },
  {
   "cell_type": "markdown",
   "metadata": {},
   "source": [
    "* Many outliers in upper range"
   ]
  },
  {
   "cell_type": "code",
   "execution_count": 5,
   "metadata": {},
   "outputs": [],
   "source": [
    "# filter top 5% of tree_dbh\n",
    "data = data[data.tree_dbh < data.tree_dbh.quantile(0.95)]"
   ]
  },
  {
   "cell_type": "code",
   "execution_count": 6,
   "metadata": {},
   "outputs": [
    {
     "data": {
      "image/png": "[encoded data removed]",
      "text/plain": [
       "<Figure size 432x288 with 1 Axes>"
      ]
     },
     "metadata": {
      "needs_background": "light"
     },
     "output_type": "display_data"
    }
   ],
   "source": [
    "# re-check tree_dbh distribution\n",
    "sns.histplot(x='tree_dbh', data=data)\n",
    "plt.show()"
   ]
  },
  {
   "cell_type": "code",
   "execution_count": 7,
   "metadata": {},
   "outputs": [],
   "source": [
    "# scale tree_dbh \n",
    "scaler = StandardScaler()\n",
    "data.tree_dbh = scaler.fit_transform(data.tree_dbh.values.reshape(-1,1))"
   ]
  },
  {
   "cell_type": "markdown",
   "metadata": {},
   "source": [
    "### Question:\n",
    "* I'm not sure if this is how to scale a single feature instead of all the numeric variables in a dataframe?\n",
    "* What do I do with latitude/longitude?"
   ]
  },
  {
   "cell_type": "markdown",
   "metadata": {},
   "source": [
    "## Label encode target variable"
   ]
  },
  {
   "cell_type": "code",
   "execution_count": 8,
   "metadata": {},
   "outputs": [],
   "source": [
    "# define target and explanatory variables\n",
    "y = data.health\n",
    "X = data.drop(['health'], axis=1)"
   ]
  },
  {
   "cell_type": "code",
   "execution_count": 9,
   "metadata": {},
   "outputs": [],
   "source": [
    "# label encode health\n",
    "le = LabelEncoder()\n",
    "y = le.fit_transform(y)"
   ]
  },
  {
   "cell_type": "markdown",
   "metadata": {},
   "source": [
    "### Question:\n",
    "* Is it better to label encode the target variable before one-hot encoding the rest of the categorical variable?"
   ]
  },
  {
   "cell_type": "markdown",
   "metadata": {},
   "source": [
    "## One hot encode categorical variables"
   ]
  },
  {
   "cell_type": "code",
   "execution_count": 10,
   "metadata": {},
   "outputs": [
    {
     "data": {
      "text/plain": [
       "tree_dbh      float64\n",
       "curb_loc       object\n",
       "spc_common     object\n",
       "steward        object\n",
       "guards         object\n",
       "sidewalk       object\n",
       "root_stone     object\n",
       "root_grate     object\n",
       "root_other     object\n",
       "trunk_wire     object\n",
       "trnk_light     object\n",
       "trnk_other     object\n",
       "brch_light     object\n",
       "brch_shoe      object\n",
       "brch_other     object\n",
       "borough        object\n",
       "latitude      float64\n",
       "longitude     float64\n",
       "dtype: object"
      ]
     },
     "execution_count": 10,
     "metadata": {},
     "output_type": "execute_result"
    }
   ],
   "source": [
    "# Check dtypes\n",
    "X.dtypes"
   ]
  },
  {
   "cell_type": "code",
   "execution_count": 11,
   "metadata": {},
   "outputs": [],
   "source": [
    "# Encode categorical variables\n",
    "cat = X.select_dtypes(include=['object']).columns\n",
    "X = pd.get_dummies(X, columns=cat)"
   ]
  },
  {
   "cell_type": "code",
   "execution_count": 12,
   "metadata": {},
   "outputs": [
    {
     "data": {
      "text/html": [
       "<div>\n",
       "<style scoped>\n",
       "    .dataframe tbody tr th:only-of-type {\n",
       "        vertical-align: middle;\n",
       "    }\n",
       "\n",
       "    .dataframe tbody tr th {\n",
       "        vertical-align: top;\n",
       "    }\n",
       "\n",
       "    .dataframe thead th {\n",
       "        text-align: right;\n",
       "    }\n",
       "</style>\n",
       "<table border=\"1\" class=\"dataframe\">\n",
       "  <thead>\n",
       "    <tr style=\"text-align: right;\">\n",
       "      <th></th>\n",
       "      <th>tree_dbh</th>\n",
       "      <th>latitude</th>\n",
       "      <th>longitude</th>\n",
       "      <th>curb_loc_OffsetFromCurb</th>\n",
       "      <th>curb_loc_OnCurb</th>\n",
       "      <th>spc_common_'Schubert' chokecherry</th>\n",
       "      <th>spc_common_American beech</th>\n",
       "      <th>spc_common_American elm</th>\n",
       "      <th>spc_common_American hophornbeam</th>\n",
       "      <th>spc_common_American hornbeam</th>\n",
       "      <th>...</th>\n",
       "      <th>brch_light_Yes</th>\n",
       "      <th>brch_shoe_No</th>\n",
       "      <th>brch_shoe_Yes</th>\n",
       "      <th>brch_other_No</th>\n",
       "      <th>brch_other_Yes</th>\n",
       "      <th>borough_Bronx</th>\n",
       "      <th>borough_Brooklyn</th>\n",
       "      <th>borough_Manhattan</th>\n",
       "      <th>borough_Queens</th>\n",
       "      <th>borough_Staten Island</th>\n",
       "    </tr>\n",
       "    <tr>\n",
       "      <th>tree_id</th>\n",
       "      <th></th>\n",
       "      <th></th>\n",
       "      <th></th>\n",
       "      <th></th>\n",
       "      <th></th>\n",
       "      <th></th>\n",
       "      <th></th>\n",
       "      <th></th>\n",
       "      <th></th>\n",
       "      <th></th>\n",
       "      <th></th>\n",
       "      <th></th>\n",
       "      <th></th>\n",
       "      <th></th>\n",
       "      <th></th>\n",
       "      <th></th>\n",
       "      <th></th>\n",
       "      <th></th>\n",
       "      <th></th>\n",
       "      <th></th>\n",
       "      <th></th>\n",
       "    </tr>\n",
       "  </thead>\n",
       "  <tbody>\n",
       "    <tr>\n",
       "      <th>180683</th>\n",
       "      <td>-1.101181</td>\n",
       "      <td>40.723092</td>\n",
       "      <td>-73.844215</td>\n",
       "      <td>0</td>\n",
       "      <td>1</td>\n",
       "      <td>0</td>\n",
       "      <td>0</td>\n",
       "      <td>0</td>\n",
       "      <td>0</td>\n",
       "      <td>0</td>\n",
       "      <td>...</td>\n",
       "      <td>0</td>\n",
       "      <td>1</td>\n",
       "      <td>0</td>\n",
       "      <td>1</td>\n",
       "      <td>0</td>\n",
       "      <td>0</td>\n",
       "      <td>0</td>\n",
       "      <td>0</td>\n",
       "      <td>1</td>\n",
       "      <td>0</td>\n",
       "    </tr>\n",
       "    <tr>\n",
       "      <th>200540</th>\n",
       "      <td>1.538217</td>\n",
       "      <td>40.794111</td>\n",
       "      <td>-73.818679</td>\n",
       "      <td>0</td>\n",
       "      <td>1</td>\n",
       "      <td>0</td>\n",
       "      <td>0</td>\n",
       "      <td>0</td>\n",
       "      <td>0</td>\n",
       "      <td>0</td>\n",
       "      <td>...</td>\n",
       "      <td>0</td>\n",
       "      <td>1</td>\n",
       "      <td>0</td>\n",
       "      <td>1</td>\n",
       "      <td>0</td>\n",
       "      <td>0</td>\n",
       "      <td>0</td>\n",
       "      <td>0</td>\n",
       "      <td>1</td>\n",
       "      <td>0</td>\n",
       "    </tr>\n",
       "    <tr>\n",
       "      <th>204026</th>\n",
       "      <td>-1.101181</td>\n",
       "      <td>40.717581</td>\n",
       "      <td>-73.936608</td>\n",
       "      <td>0</td>\n",
       "      <td>1</td>\n",
       "      <td>0</td>\n",
       "      <td>0</td>\n",
       "      <td>0</td>\n",
       "      <td>0</td>\n",
       "      <td>0</td>\n",
       "      <td>...</td>\n",
       "      <td>0</td>\n",
       "      <td>1</td>\n",
       "      <td>0</td>\n",
       "      <td>1</td>\n",
       "      <td>0</td>\n",
       "      <td>0</td>\n",
       "      <td>1</td>\n",
       "      <td>0</td>\n",
       "      <td>0</td>\n",
       "      <td>0</td>\n",
       "    </tr>\n",
       "    <tr>\n",
       "      <th>204337</th>\n",
       "      <td>-0.074749</td>\n",
       "      <td>40.713537</td>\n",
       "      <td>-73.934456</td>\n",
       "      <td>0</td>\n",
       "      <td>1</td>\n",
       "      <td>0</td>\n",
       "      <td>0</td>\n",
       "      <td>0</td>\n",
       "      <td>0</td>\n",
       "      <td>0</td>\n",
       "      <td>...</td>\n",
       "      <td>0</td>\n",
       "      <td>1</td>\n",
       "      <td>0</td>\n",
       "      <td>1</td>\n",
       "      <td>0</td>\n",
       "      <td>0</td>\n",
       "      <td>1</td>\n",
       "      <td>0</td>\n",
       "      <td>0</td>\n",
       "      <td>0</td>\n",
       "    </tr>\n",
       "    <tr>\n",
       "      <th>189565</th>\n",
       "      <td>1.538217</td>\n",
       "      <td>40.666778</td>\n",
       "      <td>-73.975979</td>\n",
       "      <td>0</td>\n",
       "      <td>1</td>\n",
       "      <td>0</td>\n",
       "      <td>0</td>\n",
       "      <td>0</td>\n",
       "      <td>0</td>\n",
       "      <td>0</td>\n",
       "      <td>...</td>\n",
       "      <td>0</td>\n",
       "      <td>1</td>\n",
       "      <td>0</td>\n",
       "      <td>1</td>\n",
       "      <td>0</td>\n",
       "      <td>0</td>\n",
       "      <td>1</td>\n",
       "      <td>0</td>\n",
       "      <td>0</td>\n",
       "      <td>0</td>\n",
       "    </tr>\n",
       "  </tbody>\n",
       "</table>\n",
       "<p>5 rows × 170 columns</p>\n",
       "</div>"
      ],
      "text/plain": [
       "         tree_dbh   latitude  longitude  curb_loc_OffsetFromCurb  \\\n",
       "tree_id                                                            \n",
       "180683  -1.101181  40.723092 -73.844215                        0   \n",
       "200540   1.538217  40.794111 -73.818679                        0   \n",
       "204026  -1.101181  40.717581 -73.936608                        0   \n",
       "204337  -0.074749  40.713537 -73.934456                        0   \n",
       "189565   1.538217  40.666778 -73.975979                        0   \n",
       "\n",
       "         curb_loc_OnCurb  spc_common_'Schubert' chokecherry  \\\n",
       "tree_id                                                       \n",
       "180683                 1                                  0   \n",
       "200540                 1                                  0   \n",
       "204026                 1                                  0   \n",
       "204337                 1                                  0   \n",
       "189565                 1                                  0   \n",
       "\n",
       "         spc_common_American beech  spc_common_American elm  \\\n",
       "tree_id                                                       \n",
       "180683                           0                        0   \n",
       "200540                           0                        0   \n",
       "204026                           0                        0   \n",
       "204337                           0                        0   \n",
       "189565                           0                        0   \n",
       "\n",
       "         spc_common_American hophornbeam  spc_common_American hornbeam  ...  \\\n",
       "tree_id                                                                 ...   \n",
       "180683                                 0                             0  ...   \n",
       "200540                                 0                             0  ...   \n",
       "204026                                 0                             0  ...   \n",
       "204337                                 0                             0  ...   \n",
       "189565                                 0                             0  ...   \n",
       "\n",
       "         brch_light_Yes  brch_shoe_No  brch_shoe_Yes  brch_other_No  \\\n",
       "tree_id                                                               \n",
       "180683                0             1              0              1   \n",
       "200540                0             1              0              1   \n",
       "204026                0             1              0              1   \n",
       "204337                0             1              0              1   \n",
       "189565                0             1              0              1   \n",
       "\n",
       "         brch_other_Yes  borough_Bronx  borough_Brooklyn  borough_Manhattan  \\\n",
       "tree_id                                                                       \n",
       "180683                0              0                 0                  0   \n",
       "200540                0              0                 0                  0   \n",
       "204026                0              0                 1                  0   \n",
       "204337                0              0                 1                  0   \n",
       "189565                0              0                 1                  0   \n",
       "\n",
       "         borough_Queens  borough_Staten Island  \n",
       "tree_id                                         \n",
       "180683                1                      0  \n",
       "200540                1                      0  \n",
       "204026                0                      0  \n",
       "204337                0                      0  \n",
       "189565                0                      0  \n",
       "\n",
       "[5 rows x 170 columns]"
      ]
     },
     "execution_count": 12,
     "metadata": {},
     "output_type": "execute_result"
    }
   ],
   "source": [
    "# Check encoding\n",
    "X.head()"
   ]
  },
  {
   "cell_type": "markdown",
   "metadata": {},
   "source": [
    "## Split training/testing data"
   ]
  },
  {
   "cell_type": "code",
   "execution_count": 13,
   "metadata": {},
   "outputs": [],
   "source": [
    "# Split training and testing data\n",
    "X_train, X_test, y_train, y_test = train_test_split(X, y, stratify=y, test_size=0.2)"
   ]
  },
  {
   "cell_type": "markdown",
   "metadata": {},
   "source": [
    "### Question: \n",
    "* Should I stratify the split because of the imbalanced categories? Or is there a better way to address this?"
   ]
  },
  {
   "cell_type": "code",
   "execution_count": 14,
   "metadata": {},
   "outputs": [
    {
     "name": "stdout",
     "output_type": "stream",
     "text": [
      "(494848, 170) (123713, 170)\n",
      "(494848,) (123713,)\n"
     ]
    }
   ],
   "source": [
    "# Check shape\n",
    "print(X_train.shape, X_test.shape)\n",
    "print(y_train.shape, y_test.shape)"
   ]
  },
  {
   "cell_type": "markdown",
   "metadata": {},
   "source": [
    "### Question:\n",
    "* Is there any more preprocessing I can do?"
   ]
  },
  {
   "cell_type": "code",
   "execution_count": null,
   "metadata": {},
   "outputs": [],
   "source": []
  }
 ],
 "metadata": {
  "kernelspec": {
   "display_name": "Python 3",
   "language": "python",
   "name": "python3"
  },
  "language_info": {
   "codemirror_mode": {
    "name": "ipython",
    "version": 3
   },
   "file_extension": ".py",
   "mimetype": "text/x-python",
   "name": "python",
   "nbconvert_exporter": "python",
   "pygments_lexer": "ipython3",
   "version": "3.8.5"
  }
 },
 "nbformat": 4,
 "nbformat_minor": 4
}
