{
 "cells": [
  {
   "cell_type": "markdown",
   "metadata": {},
   "source": [
    "# Capstone 2: Modeling"
   ]
  },
  {
   "cell_type": "code",
   "execution_count": 1,
   "metadata": {},
   "outputs": [],
   "source": [
    "# imports\n",
    "import pandas as pd\n",
    "import numpy as np\n",
    "from sklearn.linear_model import LogisticRegression\n",
    "from sklearn.tree import DecisionTreeClassifier\n",
    "from sklearn.ensemble import RandomForestClassifier\n",
    "from sklearn.metrics import accuracy_score, classification_report\n",
    "from sklearn.model_selection import RandomizedSearchCV, GridSearchCV"
   ]
  },
  {
   "cell_type": "code",
   "execution_count": 2,
   "metadata": {},
   "outputs": [],
   "source": [
    "# read data\n",
    "# drop unnamed column\n",
    "X_train = pd.read_csv('X_train.csv')\n",
    "X_test = pd.read_csv('X_test.csv')\n",
    "y_train = pd.read_csv('y_train.csv').values.ravel()\n",
    "y_test = pd.read_csv('y_test.csv').values.ravel()"
   ]
  },
  {
   "cell_type": "code",
   "execution_count": 3,
   "metadata": {},
   "outputs": [
    {
     "data": {
      "text/html": [
       "<div>\n",
       "<style scoped>\n",
       "    .dataframe tbody tr th:only-of-type {\n",
       "        vertical-align: middle;\n",
       "    }\n",
       "\n",
       "    .dataframe tbody tr th {\n",
       "        vertical-align: top;\n",
       "    }\n",
       "\n",
       "    .dataframe thead th {\n",
       "        text-align: right;\n",
       "    }\n",
       "</style>\n",
       "<table border=\"1\" class=\"dataframe\">\n",
       "  <thead>\n",
       "    <tr style=\"text-align: right;\">\n",
       "      <th></th>\n",
       "      <th>tree_dbh</th>\n",
       "      <th>latitude</th>\n",
       "      <th>longitude</th>\n",
       "      <th>curb_loc_OffsetFromCurb</th>\n",
       "      <th>curb_loc_OnCurb</th>\n",
       "      <th>spc_common_'Schubert' chokecherry</th>\n",
       "      <th>spc_common_American beech</th>\n",
       "      <th>spc_common_American elm</th>\n",
       "      <th>spc_common_American hophornbeam</th>\n",
       "      <th>spc_common_American hornbeam</th>\n",
       "      <th>...</th>\n",
       "      <th>brch_light_Yes</th>\n",
       "      <th>brch_shoe_No</th>\n",
       "      <th>brch_shoe_Yes</th>\n",
       "      <th>brch_other_No</th>\n",
       "      <th>brch_other_Yes</th>\n",
       "      <th>borough_Bronx</th>\n",
       "      <th>borough_Brooklyn</th>\n",
       "      <th>borough_Manhattan</th>\n",
       "      <th>borough_Queens</th>\n",
       "      <th>borough_Staten Island</th>\n",
       "    </tr>\n",
       "  </thead>\n",
       "  <tbody>\n",
       "    <tr>\n",
       "      <th>0</th>\n",
       "      <td>-1.113026</td>\n",
       "      <td>0.869411</td>\n",
       "      <td>-0.146663</td>\n",
       "      <td>0</td>\n",
       "      <td>1</td>\n",
       "      <td>0</td>\n",
       "      <td>0</td>\n",
       "      <td>0</td>\n",
       "      <td>0</td>\n",
       "      <td>0</td>\n",
       "      <td>...</td>\n",
       "      <td>0</td>\n",
       "      <td>1</td>\n",
       "      <td>0</td>\n",
       "      <td>1</td>\n",
       "      <td>0</td>\n",
       "      <td>0</td>\n",
       "      <td>0</td>\n",
       "      <td>1</td>\n",
       "      <td>0</td>\n",
       "      <td>0</td>\n",
       "    </tr>\n",
       "    <tr>\n",
       "      <th>1</th>\n",
       "      <td>2.024813</td>\n",
       "      <td>0.540008</td>\n",
       "      <td>1.038479</td>\n",
       "      <td>0</td>\n",
       "      <td>1</td>\n",
       "      <td>0</td>\n",
       "      <td>0</td>\n",
       "      <td>0</td>\n",
       "      <td>0</td>\n",
       "      <td>0</td>\n",
       "      <td>...</td>\n",
       "      <td>0</td>\n",
       "      <td>1</td>\n",
       "      <td>0</td>\n",
       "      <td>1</td>\n",
       "      <td>0</td>\n",
       "      <td>0</td>\n",
       "      <td>0</td>\n",
       "      <td>0</td>\n",
       "      <td>1</td>\n",
       "      <td>0</td>\n",
       "    </tr>\n",
       "    <tr>\n",
       "      <th>2</th>\n",
       "      <td>-1.247814</td>\n",
       "      <td>-1.259557</td>\n",
       "      <td>0.813491</td>\n",
       "      <td>0</td>\n",
       "      <td>1</td>\n",
       "      <td>0</td>\n",
       "      <td>0</td>\n",
       "      <td>0</td>\n",
       "      <td>0</td>\n",
       "      <td>0</td>\n",
       "      <td>...</td>\n",
       "      <td>0</td>\n",
       "      <td>1</td>\n",
       "      <td>0</td>\n",
       "      <td>1</td>\n",
       "      <td>0</td>\n",
       "      <td>0</td>\n",
       "      <td>0</td>\n",
       "      <td>0</td>\n",
       "      <td>1</td>\n",
       "      <td>0</td>\n",
       "    </tr>\n",
       "    <tr>\n",
       "      <th>3</th>\n",
       "      <td>0.241652</td>\n",
       "      <td>0.882777</td>\n",
       "      <td>-0.222273</td>\n",
       "      <td>0</td>\n",
       "      <td>1</td>\n",
       "      <td>0</td>\n",
       "      <td>0</td>\n",
       "      <td>0</td>\n",
       "      <td>0</td>\n",
       "      <td>0</td>\n",
       "      <td>...</td>\n",
       "      <td>0</td>\n",
       "      <td>1</td>\n",
       "      <td>0</td>\n",
       "      <td>1</td>\n",
       "      <td>0</td>\n",
       "      <td>0</td>\n",
       "      <td>0</td>\n",
       "      <td>1</td>\n",
       "      <td>0</td>\n",
       "      <td>0</td>\n",
       "    </tr>\n",
       "    <tr>\n",
       "      <th>4</th>\n",
       "      <td>0.805051</td>\n",
       "      <td>0.493086</td>\n",
       "      <td>1.227581</td>\n",
       "      <td>0</td>\n",
       "      <td>1</td>\n",
       "      <td>0</td>\n",
       "      <td>0</td>\n",
       "      <td>0</td>\n",
       "      <td>0</td>\n",
       "      <td>0</td>\n",
       "      <td>...</td>\n",
       "      <td>0</td>\n",
       "      <td>1</td>\n",
       "      <td>0</td>\n",
       "      <td>1</td>\n",
       "      <td>0</td>\n",
       "      <td>0</td>\n",
       "      <td>0</td>\n",
       "      <td>0</td>\n",
       "      <td>1</td>\n",
       "      <td>0</td>\n",
       "    </tr>\n",
       "  </tbody>\n",
       "</table>\n",
       "<p>5 rows × 170 columns</p>\n",
       "</div>"
      ],
      "text/plain": [
       "   tree_dbh  latitude  longitude  curb_loc_OffsetFromCurb  curb_loc_OnCurb  \\\n",
       "0 -1.113026  0.869411  -0.146663                        0                1   \n",
       "1  2.024813  0.540008   1.038479                        0                1   \n",
       "2 -1.247814 -1.259557   0.813491                        0                1   \n",
       "3  0.241652  0.882777  -0.222273                        0                1   \n",
       "4  0.805051  0.493086   1.227581                        0                1   \n",
       "\n",
       "   spc_common_'Schubert' chokecherry  spc_common_American beech  \\\n",
       "0                                  0                          0   \n",
       "1                                  0                          0   \n",
       "2                                  0                          0   \n",
       "3                                  0                          0   \n",
       "4                                  0                          0   \n",
       "\n",
       "   spc_common_American elm  spc_common_American hophornbeam  \\\n",
       "0                        0                                0   \n",
       "1                        0                                0   \n",
       "2                        0                                0   \n",
       "3                        0                                0   \n",
       "4                        0                                0   \n",
       "\n",
       "   spc_common_American hornbeam  ...  brch_light_Yes  brch_shoe_No  \\\n",
       "0                             0  ...               0             1   \n",
       "1                             0  ...               0             1   \n",
       "2                             0  ...               0             1   \n",
       "3                             0  ...               0             1   \n",
       "4                             0  ...               0             1   \n",
       "\n",
       "   brch_shoe_Yes  brch_other_No  brch_other_Yes  borough_Bronx  \\\n",
       "0              0              1               0              0   \n",
       "1              0              1               0              0   \n",
       "2              0              1               0              0   \n",
       "3              0              1               0              0   \n",
       "4              0              1               0              0   \n",
       "\n",
       "   borough_Brooklyn  borough_Manhattan  borough_Queens  borough_Staten Island  \n",
       "0                 0                  1               0                      0  \n",
       "1                 0                  0               1                      0  \n",
       "2                 0                  0               1                      0  \n",
       "3                 0                  1               0                      0  \n",
       "4                 0                  0               1                      0  \n",
       "\n",
       "[5 rows x 170 columns]"
      ]
     },
     "execution_count": 3,
     "metadata": {},
     "output_type": "execute_result"
    }
   ],
   "source": [
    "# check training data\n",
    "X_train.head()"
   ]
  },
  {
   "cell_type": "markdown",
   "metadata": {},
   "source": [
    "## Logistic Regression"
   ]
  },
  {
   "cell_type": "code",
   "execution_count": 4,
   "metadata": {},
   "outputs": [
    {
     "data": {
      "text/plain": [
       "LogisticRegression(max_iter=10000, random_state=14)"
      ]
     },
     "execution_count": 4,
     "metadata": {},
     "output_type": "execute_result"
    }
   ],
   "source": [
    "# create and fit logistic regression\n",
    "lr = LogisticRegression(max_iter=10000, random_state=14)\n",
    "lr.fit(X_train, y_train)"
   ]
  },
  {
   "cell_type": "code",
   "execution_count": 5,
   "metadata": {},
   "outputs": [],
   "source": [
    "# make predictions on train and test sets\n",
    "lr_tr_pred = lr.predict(X_train)\n",
    "lr_te_pred = lr.predict(X_test)"
   ]
  },
  {
   "cell_type": "code",
   "execution_count": 6,
   "metadata": {},
   "outputs": [
    {
     "name": "stdout",
     "output_type": "stream",
     "text": [
      "lr training accuracy:  0.5040909311149688\n",
      "lr testing accuracy:  0.5041936777384214\n"
     ]
    }
   ],
   "source": [
    "# lr model accuracy scores\n",
    "lr_tr_accuracy = accuracy_score(y_train, lr_tr_pred)\n",
    "lr_te_accuracy = accuracy_score(y_test, lr_te_pred)\n",
    "print('lr training accuracy: ', lr_tr_accuracy)\n",
    "print('lr testing accuracy: ', lr_te_accuracy)"
   ]
  },
  {
   "cell_type": "code",
   "execution_count": 7,
   "metadata": {},
   "outputs": [
    {
     "name": "stdout",
     "output_type": "stream",
     "text": [
      "dtc training classification report:                precision    recall  f1-score   support\n",
      "\n",
      "           0       0.43      0.19      0.26    399012\n",
      "           1       0.49      0.74      0.59    399013\n",
      "           2       0.55      0.59      0.57    399013\n",
      "\n",
      "    accuracy                           0.50   1197038\n",
      "   macro avg       0.49      0.50      0.47   1197038\n",
      "weighted avg       0.49      0.50      0.47   1197038\n",
      "\n",
      "dtc testing classifiication report:                precision    recall  f1-score   support\n",
      "\n",
      "           0       0.44      0.19      0.26     99754\n",
      "           1       0.49      0.74      0.59     99753\n",
      "           2       0.55      0.59      0.57     99753\n",
      "\n",
      "    accuracy                           0.50    299260\n",
      "   macro avg       0.49      0.50      0.47    299260\n",
      "weighted avg       0.49      0.50      0.47    299260\n",
      "\n"
     ]
    }
   ],
   "source": [
    "# lr model classification reports\n",
    "lr_tr_class_rep = classification_report(y_train, lr_tr_pred)\n",
    "lr_te_class_rep = classification_report(y_test, lr_te_pred)\n",
    "print('dtc training classification report: ', lr_tr_class_rep)\n",
    "print('dtc testing classifiication report: ', lr_te_class_rep)"
   ]
  },
  {
   "cell_type": "markdown",
   "metadata": {},
   "source": [
    "## Decision Tree Classifier Hyperparameter Tuning"
   ]
  },
  {
   "cell_type": "code",
   "execution_count": 8,
   "metadata": {},
   "outputs": [
    {
     "data": {
      "text/plain": [
       "DecisionTreeClassifier(random_state=14)"
      ]
     },
     "execution_count": 8,
     "metadata": {},
     "output_type": "execute_result"
    }
   ],
   "source": [
    "# create and fit decision tree classifier\n",
    "dtc = DecisionTreeClassifier(random_state=14)\n",
    "dtc.fit(X_train, y_train)"
   ]
  },
  {
   "cell_type": "code",
   "execution_count": 9,
   "metadata": {},
   "outputs": [],
   "source": [
    "# make predictions on train and test sets\n",
    "dtc_tr_pred = dtc.predict(X_train)\n",
    "dtc_te_pred = dtc.predict(X_test)"
   ]
  },
  {
   "cell_type": "code",
   "execution_count": 10,
   "metadata": {},
   "outputs": [
    {
     "name": "stdout",
     "output_type": "stream",
     "text": [
      "dtc training accuracy:  0.9999958230231621\n",
      "dtc testing accuracy:  0.7802278954755062\n"
     ]
    }
   ],
   "source": [
    "# dtc model accuracy scores\n",
    "dtc_tr_accuracy = accuracy_score(y_train, dtc_tr_pred)\n",
    "dtc_te_accuracy = accuracy_score(y_test, dtc_te_pred)\n",
    "print('dtc training accuracy: ', dtc_tr_accuracy)\n",
    "print('dtc testing accuracy: ', dtc_te_accuracy)"
   ]
  },
  {
   "cell_type": "code",
   "execution_count": 11,
   "metadata": {},
   "outputs": [
    {
     "name": "stdout",
     "output_type": "stream",
     "text": [
      "dtc training classification report:                precision    recall  f1-score   support\n",
      "\n",
      "           0       1.00      1.00      1.00    399012\n",
      "           1       1.00      1.00      1.00    399013\n",
      "           2       1.00      1.00      1.00    399013\n",
      "\n",
      "    accuracy                           1.00   1197038\n",
      "   macro avg       1.00      1.00      1.00   1197038\n",
      "weighted avg       1.00      1.00      1.00   1197038\n",
      "\n",
      "dtc testing classifiication report:                precision    recall  f1-score   support\n",
      "\n",
      "           0       0.72      0.72      0.72     99754\n",
      "           1       0.80      0.78      0.79     99753\n",
      "           2       0.81      0.84      0.83     99753\n",
      "\n",
      "    accuracy                           0.78    299260\n",
      "   macro avg       0.78      0.78      0.78    299260\n",
      "weighted avg       0.78      0.78      0.78    299260\n",
      "\n"
     ]
    }
   ],
   "source": [
    "# dtc model classification reports\n",
    "dtc_tr_class_rep = classification_report(y_train, dtc_tr_pred)\n",
    "dtc_te_class_rep = classification_report(y_test, dtc_te_pred)\n",
    "print('dtc training classification report: ', dtc_tr_class_rep)\n",
    "print('dtc testing classifiication report: ', dtc_te_class_rep)"
   ]
  },
  {
   "cell_type": "markdown",
   "metadata": {},
   "source": [
    "## Random Forest Classifier"
   ]
  },
  {
   "cell_type": "code",
   "execution_count": 12,
   "metadata": {},
   "outputs": [
    {
     "data": {
      "text/plain": [
       "RandomForestClassifier(random_state=14)"
      ]
     },
     "execution_count": 12,
     "metadata": {},
     "output_type": "execute_result"
    }
   ],
   "source": [
    "# create and fit random forest classifier\n",
    "rfc = RandomForestClassifier(random_state=14)\n",
    "rfc.fit(X_train, y_train)"
   ]
  },
  {
   "cell_type": "code",
   "execution_count": 13,
   "metadata": {},
   "outputs": [],
   "source": [
    "# make predictions on train and test sets\n",
    "rfc_tr_pred = rfc.predict(X_train)\n",
    "rfc_te_pred = rfc.predict(X_test)"
   ]
  },
  {
   "cell_type": "code",
   "execution_count": 14,
   "metadata": {},
   "outputs": [
    {
     "name": "stdout",
     "output_type": "stream",
     "text": [
      "dtc training accuracy:  0.9999891398602216\n",
      "dtc testing accuracy:  0.8597574015905901\n"
     ]
    }
   ],
   "source": [
    "# rfc model accuracy scores\n",
    "rfc_tr_accuracy = accuracy_score(y_train, rfc_tr_pred)\n",
    "rfc_te_accuracy = accuracy_score(y_test, rfc_te_pred)\n",
    "print('dtc training accuracy: ', rfc_tr_accuracy)\n",
    "print('dtc testing accuracy: ', rfc_te_accuracy)"
   ]
  },
  {
   "cell_type": "code",
   "execution_count": 15,
   "metadata": {},
   "outputs": [
    {
     "name": "stdout",
     "output_type": "stream",
     "text": [
      "dtc training classification report:                precision    recall  f1-score   support\n",
      "\n",
      "           0       1.00      1.00      1.00    399012\n",
      "           1       1.00      1.00      1.00    399013\n",
      "           2       1.00      1.00      1.00    399013\n",
      "\n",
      "    accuracy                           1.00   1197038\n",
      "   macro avg       1.00      1.00      1.00   1197038\n",
      "weighted avg       1.00      1.00      1.00   1197038\n",
      "\n",
      "dtc testing classifiication report:                precision    recall  f1-score   support\n",
      "\n",
      "           0       0.83      0.83      0.83     99754\n",
      "           1       0.85      0.82      0.84     99753\n",
      "           2       0.90      0.93      0.91     99753\n",
      "\n",
      "    accuracy                           0.86    299260\n",
      "   macro avg       0.86      0.86      0.86    299260\n",
      "weighted avg       0.86      0.86      0.86    299260\n",
      "\n"
     ]
    }
   ],
   "source": [
    "# rfc model classification reports\n",
    "rfc_tr_class_rep = classification_report(y_train, rfc_tr_pred)\n",
    "rfc_te_class_rep = classification_report(y_test, rfc_te_pred)\n",
    "print('dtc training classification report: ', rfc_tr_class_rep)\n",
    "print('dtc testing classifiication report: ', rfc_te_class_rep)"
   ]
  },
  {
   "cell_type": "markdown",
   "metadata": {},
   "source": [
    "* Logistic regression: very poor performance in both train and test set\n",
    "* Both decision tree classifier and random forest classifier seem to be overfit\n",
    "* Random forest classifier has slighter better performance in the training data"
   ]
  },
  {
   "cell_type": "markdown",
   "metadata": {},
   "source": [
    "## Random Forest Classifier Hyperparameter Tuning"
   ]
  },
  {
   "cell_type": "code",
   "execution_count": 16,
   "metadata": {},
   "outputs": [
    {
     "data": {
      "text/plain": [
       "dict_keys(['bootstrap', 'ccp_alpha', 'class_weight', 'criterion', 'max_depth', 'max_features', 'max_leaf_nodes', 'max_samples', 'min_impurity_decrease', 'min_impurity_split', 'min_samples_leaf', 'min_samples_split', 'min_weight_fraction_leaf', 'n_estimators', 'n_jobs', 'oob_score', 'random_state', 'verbose', 'warm_start'])"
      ]
     },
     "execution_count": 16,
     "metadata": {},
     "output_type": "execute_result"
    }
   ],
   "source": [
    "# get parameters for rfc\n",
    "rfc.get_params().keys()"
   ]
  },
  {
   "cell_type": "markdown",
   "metadata": {},
   "source": [
    "### Random Search CV"
   ]
  },
  {
   "cell_type": "code",
   "execution_count": 17,
   "metadata": {},
   "outputs": [],
   "source": [
    "# rfc random param grid\n",
    "random_param_grid = {\n",
    "    'n_estimators' : [5, 10, 20],\n",
    "    'max_depth' : [150, 200, 300],\n",
    "    'min_samples_leaf' : [30, 50, 70]\n",
    "   \n",
    "}"
   ]
  },
  {
   "cell_type": "code",
   "execution_count": 18,
   "metadata": {},
   "outputs": [],
   "source": [
    "# instantiate randomized search\n",
    "random_cv = RandomizedSearchCV(rfc, param_distributions=random_param_grid, random_state=14, cv=3)"
   ]
  },
  {
   "cell_type": "code",
   "execution_count": 19,
   "metadata": {},
   "outputs": [
    {
     "data": {
      "text/plain": [
       "RandomizedSearchCV(cv=3, estimator=RandomForestClassifier(random_state=14),\n",
       "                   param_distributions={'max_depth': [150, 200, 300],\n",
       "                                        'min_samples_leaf': [30, 50, 70],\n",
       "                                        'n_estimators': [5, 10, 20]},\n",
       "                   random_state=14)"
      ]
     },
     "execution_count": 19,
     "metadata": {},
     "output_type": "execute_result"
    }
   ],
   "source": [
    "# fit randomized search\n",
    "random_cv.fit(X_train, y_train)"
   ]
  },
  {
   "cell_type": "code",
   "execution_count": 20,
   "metadata": {},
   "outputs": [
    {
     "name": "stdout",
     "output_type": "stream",
     "text": [
      "{'n_estimators': 20, 'min_samples_leaf': 30, 'max_depth': 150}\n"
     ]
    }
   ],
   "source": [
    "# find best parameters\n",
    "random_best = random_cv.best_params_\n",
    "print(random_best)"
   ]
  },
  {
   "cell_type": "code",
   "execution_count": 21,
   "metadata": {},
   "outputs": [
    {
     "data": {
      "text/plain": [
       "RandomForestClassifier(max_depth=150, min_samples_leaf=30, n_estimators=20,\n",
       "                       random_state=14)"
      ]
     },
     "execution_count": 21,
     "metadata": {},
     "output_type": "execute_result"
    }
   ],
   "source": [
    "# fit rfc model using rfc_best\n",
    "random_best_model = RandomForestClassifier(**random_best, random_state=14)\n",
    "random_best_model.fit(X_train, y_train)"
   ]
  },
  {
   "cell_type": "code",
   "execution_count": 22,
   "metadata": {},
   "outputs": [],
   "source": [
    "# make predictions\n",
    "random_best_tr_pred = random_best_model.predict(X_train)\n",
    "random_best_te_pred = random_best_model.predict(X_test)"
   ]
  },
  {
   "cell_type": "code",
   "execution_count": 23,
   "metadata": {},
   "outputs": [
    {
     "name": "stdout",
     "output_type": "stream",
     "text": [
      "random search best training accuracy:  0.5891525582312341\n",
      "random search best testing accuracy:  0.5819187328744235\n"
     ]
    }
   ],
   "source": [
    "# score model\n",
    "random_best_tr_accuracy = accuracy_score(y_train, random_best_tr_pred)\n",
    "random_best_te_accuracy = accuracy_score(y_test, random_best_te_pred)\n",
    "print('random search best training accuracy: ', random_best_tr_accuracy)\n",
    "print('random search best testing accuracy: ', random_best_te_accuracy)"
   ]
  },
  {
   "cell_type": "markdown",
   "metadata": {},
   "source": [
    "* The random forest classifier model is less overfit but still needs improvement\n",
    "* Continue hyperparameter tuning using Grid Search CV"
   ]
  },
  {
   "cell_type": "markdown",
   "metadata": {},
   "source": [
    "### Grid Search CV"
   ]
  },
  {
   "cell_type": "code",
   "execution_count": 24,
   "metadata": {},
   "outputs": [],
   "source": [
    "# rfc grid param grid\n",
    "param_grid = {\n",
    "    'n_estimators' : [15, 20, 25, 30],\n",
    "    'max_depth' : [120, 150, 180, 200],\n",
    "    'min_samples_leaf' : [20, 25, 30, 40]  \n",
    "}"
   ]
  },
  {
   "cell_type": "code",
   "execution_count": 25,
   "metadata": {},
   "outputs": [],
   "source": [
    "# instantiate rfc grid search\n",
    "grid_cv = GridSearchCV(rfc, param_grid=param_grid, cv=5)"
   ]
  },
  {
   "cell_type": "code",
   "execution_count": 26,
   "metadata": {},
   "outputs": [
    {
     "data": {
      "text/plain": [
       "GridSearchCV(cv=5, estimator=RandomForestClassifier(random_state=14),\n",
       "             param_grid={'max_depth': [120, 150, 180, 200],\n",
       "                         'min_samples_leaf': [20, 25, 30, 40],\n",
       "                         'n_estimators': [15, 20, 25, 30]})"
      ]
     },
     "execution_count": 26,
     "metadata": {},
     "output_type": "execute_result"
    }
   ],
   "source": [
    "# fit grid search\n",
    "grid_cv.fit(X_train, y_train)"
   ]
  },
  {
   "cell_type": "code",
   "execution_count": 28,
   "metadata": {},
   "outputs": [
    {
     "name": "stdout",
     "output_type": "stream",
     "text": [
      "mean test scores:  [0.58490792 0.58886769 0.5906145  0.59181413 0.57718886 0.58130736\n",
      " 0.58243515 0.5830383  0.57138453 0.57392915 0.57524991 0.57567847\n",
      " 0.5599204  0.56273735 0.56482584 0.56559858 0.58490792 0.58886769\n",
      " 0.5906145  0.59181413 0.57718886 0.58130736 0.58243515 0.5830383\n",
      " 0.57138453 0.57392915 0.57524991 0.57567847 0.5599204  0.56273735\n",
      " 0.56482584 0.56559858 0.58490792 0.58886769 0.5906145  0.59181413\n",
      " 0.57718886 0.58130736 0.58243515 0.5830383  0.57138453 0.57392915\n",
      " 0.57524991 0.57567847 0.5599204  0.56273735 0.56482584 0.56559858\n",
      " 0.58490792 0.58886769 0.5906145  0.59181413 0.57718886 0.58130736\n",
      " 0.58243515 0.5830383  0.57138453 0.57392915 0.57524991 0.57567847\n",
      " 0.5599204  0.56273735 0.56482584 0.56559858]\n",
      "std test scores:  [0.00088498 0.00180726 0.00135533 0.00126466 0.00204084 0.00189927\n",
      " 0.0014415  0.00117227 0.00236232 0.00145494 0.00137938 0.00131573\n",
      " 0.00268277 0.00327631 0.00311754 0.00279281 0.00088498 0.00180726\n",
      " 0.00135533 0.00126466 0.00204084 0.00189927 0.0014415  0.00117227\n",
      " 0.00236232 0.00145494 0.00137938 0.00131573 0.00268277 0.00327631\n",
      " 0.00311754 0.00279281 0.00088498 0.00180726 0.00135533 0.00126466\n",
      " 0.00204084 0.00189927 0.0014415  0.00117227 0.00236232 0.00145494\n",
      " 0.00137938 0.00131573 0.00268277 0.00327631 0.00311754 0.00279281\n",
      " 0.00088498 0.00180726 0.00135533 0.00126466 0.00204084 0.00189927\n",
      " 0.0014415  0.00117227 0.00236232 0.00145494 0.00137938 0.00131573\n",
      " 0.00268277 0.00327631 0.00311754 0.00279281]\n"
     ]
    }
   ],
   "source": [
    "# score model\n",
    "grid_mean = grid_cv.cv_results_['mean_test_score']\n",
    "grid_std = grid_cv.cv_results_['std_test_score']\n",
    "print('mean test scores: ', grid_mean)\n",
    "print('std test scores: ', grid_std)"
   ]
  },
  {
   "cell_type": "code",
   "execution_count": 29,
   "metadata": {},
   "outputs": [
    {
     "name": "stdout",
     "output_type": "stream",
     "text": [
      "{'max_depth': 120, 'min_samples_leaf': 20, 'n_estimators': 30}\n"
     ]
    }
   ],
   "source": [
    "# find best parameters\n",
    "grid_best = grid_cv.best_params_\n",
    "print(grid_best)"
   ]
  },
  {
   "cell_type": "code",
   "execution_count": 30,
   "metadata": {},
   "outputs": [
    {
     "data": {
      "text/plain": [
       "RandomForestClassifier(max_depth=120, min_samples_leaf=20, n_estimators=30)"
      ]
     },
     "execution_count": 30,
     "metadata": {},
     "output_type": "execute_result"
    }
   ],
   "source": [
    "# fit model with best paramters\n",
    "grid_best_model = RandomForestClassifier(**grid_best)\n",
    "grid_best_model.fit(X_train, y_train)"
   ]
  },
  {
   "cell_type": "code",
   "execution_count": 31,
   "metadata": {},
   "outputs": [],
   "source": [
    "# make predictions\n",
    "grid_best_tr_pred = grid_best_model.predict(X_train)\n",
    "grid_best_te_pred = grid_best_model.predict(X_test)"
   ]
  },
  {
   "cell_type": "code",
   "execution_count": 32,
   "metadata": {},
   "outputs": [
    {
     "name": "stdout",
     "output_type": "stream",
     "text": [
      "rfc grid search best training accuracy:  0.6140949577206405\n",
      "rfc grid search best testing accuracy:  0.6032580364900086\n"
     ]
    }
   ],
   "source": [
    "# rfc model accuracy scores\n",
    "grid_best_tr_accuracy = accuracy_score(y_train, grid_best_tr_pred)\n",
    "grid_best_te_accuracy = accuracy_score(y_test, grid_best_te_pred)\n",
    "print('rfc grid search best training accuracy: ', grid_best_tr_accuracy)\n",
    "print('rfc grid search best testing accuracy: ', grid_best_te_accuracy)"
   ]
  },
  {
   "cell_type": "markdown",
   "metadata": {},
   "source": [
    "* RFC model is less overfit but accuracy is still poor\n",
    "* Overfit DTC model has higher accuracy\n",
    "* Consider tuning DTC model instead"
   ]
  },
  {
   "cell_type": "markdown",
   "metadata": {},
   "source": [
    "## Decision Tree Classifier Hyperparameter Tuning"
   ]
  },
  {
   "cell_type": "code",
   "execution_count": 45,
   "metadata": {},
   "outputs": [
    {
     "data": {
      "text/plain": [
       "dict_keys(['ccp_alpha', 'class_weight', 'criterion', 'max_depth', 'max_features', 'max_leaf_nodes', 'min_impurity_decrease', 'min_impurity_split', 'min_samples_leaf', 'min_samples_split', 'min_weight_fraction_leaf', 'random_state', 'splitter'])"
      ]
     },
     "execution_count": 45,
     "metadata": {},
     "output_type": "execute_result"
    }
   ],
   "source": [
    "# get parameters for dtc\n",
    "dtc.get_params().keys()"
   ]
  },
  {
   "cell_type": "markdown",
   "metadata": {},
   "source": [
    "### Random Search CV"
   ]
  },
  {
   "cell_type": "code",
   "execution_count": 37,
   "metadata": {},
   "outputs": [],
   "source": [
    "# dtc random param grid\n",
    "dtc_random_grid = {\n",
    "    'max_depth' : [100, 200, 300, 400],\n",
    "    'min_samples_leaf' : [10, 50, 200, 1000]\n",
    "}"
   ]
  },
  {
   "cell_type": "code",
   "execution_count": 38,
   "metadata": {},
   "outputs": [],
   "source": [
    "# instantiate randomized search\n",
    "dtc_random_cv = RandomizedSearchCV(dtc, param_distributions=dtc_random_grid, random_state=14, cv=3)"
   ]
  },
  {
   "cell_type": "code",
   "execution_count": 39,
   "metadata": {},
   "outputs": [
    {
     "data": {
      "text/plain": [
       "RandomizedSearchCV(cv=3, estimator=DecisionTreeClassifier(random_state=14),\n",
       "                   param_distributions={'max_depth': [100, 200, 300, 400],\n",
       "                                        'min_samples_leaf': [10, 50, 200,\n",
       "                                                             1000]},\n",
       "                   random_state=14)"
      ]
     },
     "execution_count": 39,
     "metadata": {},
     "output_type": "execute_result"
    }
   ],
   "source": [
    "# fit randomized search\n",
    "dtc_random_cv.fit(X_train, y_train)"
   ]
  },
  {
   "cell_type": "code",
   "execution_count": 40,
   "metadata": {},
   "outputs": [
    {
     "name": "stdout",
     "output_type": "stream",
     "text": [
      "{'min_samples_leaf': 10, 'max_depth': 200}\n"
     ]
    }
   ],
   "source": [
    "# find best parameters\n",
    "dtc_random_best = dtc_random_cv.best_params_\n",
    "print(dtc_random_best)"
   ]
  },
  {
   "cell_type": "code",
   "execution_count": 42,
   "metadata": {},
   "outputs": [
    {
     "data": {
      "text/plain": [
       "DecisionTreeClassifier(max_depth=200, min_samples_leaf=10, random_state=14)"
      ]
     },
     "execution_count": 42,
     "metadata": {},
     "output_type": "execute_result"
    }
   ],
   "source": [
    "# fit dtc model using dtc_random_best\n",
    "dtc_random_best_model = DecisionTreeClassifier(**dtc_random_best, random_state=14)\n",
    "dtc_random_best_model.fit(X_train, y_train)"
   ]
  },
  {
   "cell_type": "code",
   "execution_count": 43,
   "metadata": {},
   "outputs": [],
   "source": [
    "# make predictions\n",
    "dtc_random_tr_pred = dtc_random_best_model.predict(X_train)\n",
    "dtc_random_te_pred = dtc_random_best_model.predict(X_test)"
   ]
  },
  {
   "cell_type": "code",
   "execution_count": 44,
   "metadata": {},
   "outputs": [
    {
     "name": "stdout",
     "output_type": "stream",
     "text": [
      "random search best training accuracy:  0.8125447980765858\n",
      "random search best testing accuracy:  0.7209149234779122\n"
     ]
    }
   ],
   "source": [
    "# score model\n",
    "dtc_random_tr_accuracy = accuracy_score(y_train, dtc_random_tr_pred)\n",
    "dtc_random_te_accuracy = accuracy_score(y_test, dtc_random_te_pred )\n",
    "print('random search best training accuracy: ', dtc_random_tr_accuracy)\n",
    "print('random search best testing accuracy: ', dtc_random_te_accuracy)"
   ]
  },
  {
   "cell_type": "markdown",
   "metadata": {},
   "source": [
    "* Dtc random search accuracy higher than rtc grid search accuracy\n",
    "* Dtc model still overfit\n",
    "* Continue hyperparameter tuning"
   ]
  },
  {
   "cell_type": "markdown",
   "metadata": {},
   "source": [
    "### Grid Search CV"
   ]
  },
  {
   "cell_type": "code",
   "execution_count": 65,
   "metadata": {},
   "outputs": [],
   "source": [
    "# dtc grid param grid\n",
    "dtc_param_grid = {\n",
    "    'max_depth' : [110, 115, 125],\n",
    "    'min_samples_leaf' : [2, 4]\n",
    "}"
   ]
  },
  {
   "cell_type": "code",
   "execution_count": 66,
   "metadata": {},
   "outputs": [],
   "source": [
    "# instantiate dtc grid search\n",
    "dtc_grid_cv = GridSearchCV(dtc, param_grid=dtc_param_grid, cv=3)"
   ]
  },
  {
   "cell_type": "code",
   "execution_count": 67,
   "metadata": {},
   "outputs": [
    {
     "data": {
      "text/plain": [
       "GridSearchCV(cv=3, estimator=DecisionTreeClassifier(random_state=14),\n",
       "             param_grid={'max_depth': [110, 115, 125],\n",
       "                         'min_samples_leaf': [2, 4]})"
      ]
     },
     "execution_count": 67,
     "metadata": {},
     "output_type": "execute_result"
    }
   ],
   "source": [
    "# fit dtc grid search\n",
    "dtc_grid_cv.fit(X_train, y_train)"
   ]
  },
  {
   "cell_type": "code",
   "execution_count": 68,
   "metadata": {},
   "outputs": [
    {
     "name": "stdout",
     "output_type": "stream",
     "text": [
      "{'max_depth': 110, 'min_samples_leaf': 2}\n"
     ]
    }
   ],
   "source": [
    "# find best parameters\n",
    "dtc_grid_best = dtc_grid_cv.best_params_\n",
    "print(dtc_grid_best)"
   ]
  },
  {
   "cell_type": "code",
   "execution_count": 69,
   "metadata": {},
   "outputs": [
    {
     "data": {
      "text/plain": [
       "DecisionTreeClassifier(max_depth=110, min_samples_leaf=2, random_state=14)"
      ]
     },
     "execution_count": 69,
     "metadata": {},
     "output_type": "execute_result"
    }
   ],
   "source": [
    "# fit dtc model using dtc_grid_best\n",
    "dtc_grid_best_model = DecisionTreeClassifier(**dtc_grid_best, random_state=14)\n",
    "dtc_grid_best_model.fit(X_train, y_train)"
   ]
  },
  {
   "cell_type": "code",
   "execution_count": 70,
   "metadata": {},
   "outputs": [],
   "source": [
    "# make predictions\n",
    "dtc_grid_tr_pred = dtc_grid_best_model.predict(X_train)\n",
    "dtc_grid_te_pred = dtc_grid_best_model.predict(X_test)"
   ]
  },
  {
   "cell_type": "code",
   "execution_count": 71,
   "metadata": {},
   "outputs": [
    {
     "name": "stdout",
     "output_type": "stream",
     "text": [
      "random search best training accuracy:  0.941605863807164\n",
      "random search best testing accuracy:  0.7569772104524494\n"
     ]
    }
   ],
   "source": [
    "# score model\n",
    "dtc_grid_tr_accuracy = accuracy_score(y_train, dtc_grid_tr_pred)\n",
    "dtc_grid_te_accuracy = accuracy_score(y_test, dtc_grid_te_pred )\n",
    "print('random search best training accuracy: ', dtc_grid_tr_accuracy)\n",
    "print('random search best testing accuracy: ', dtc_grid_te_accuracy)"
   ]
  },
  {
   "cell_type": "code",
   "execution_count": 72,
   "metadata": {},
   "outputs": [
    {
     "name": "stdout",
     "output_type": "stream",
     "text": [
      "dtc training classification report:                precision    recall  f1-score   support\n",
      "\n",
      "           0       0.89      0.98      0.93    399012\n",
      "           1       0.96      0.93      0.94    399013\n",
      "           2       0.99      0.92      0.95    399013\n",
      "\n",
      "    accuracy                           0.94   1197038\n",
      "   macro avg       0.94      0.94      0.94   1197038\n",
      "weighted avg       0.94      0.94      0.94   1197038\n",
      "\n",
      "dtc testing classifiication report:                precision    recall  f1-score   support\n",
      "\n",
      "           0       0.67      0.74      0.70     99754\n",
      "           1       0.79      0.75      0.77     99753\n",
      "           2       0.83      0.78      0.80     99753\n",
      "\n",
      "    accuracy                           0.76    299260\n",
      "   macro avg       0.76      0.76      0.76    299260\n",
      "weighted avg       0.76      0.76      0.76    299260\n",
      "\n"
     ]
    }
   ],
   "source": [
    "# dtc model classification reports\n",
    "dtc_grid_tr_class = classification_report(y_train, dtc_grid_tr_pred)\n",
    "dtc_grid_te_class = classification_report(y_test, dtc_grid_te_pred)\n",
    "print('dtc training classification report: ', dtc_grid_tr_class)\n",
    "print('dtc testing classifiication report: ', dtc_grid_te_class)"
   ]
  },
  {
   "cell_type": "code",
   "execution_count": null,
   "metadata": {},
   "outputs": [],
   "source": []
  }
 ],
 "metadata": {
  "kernelspec": {
   "display_name": "Python 3 (ipykernel)",
   "language": "python",
   "name": "python3"
  },
  "language_info": {
   "codemirror_mode": {
    "name": "ipython",
    "version": 3
   },
   "file_extension": ".py",
   "mimetype": "text/x-python",
   "name": "python",
   "nbconvert_exporter": "python",
   "pygments_lexer": "ipython3",
   "version": "3.9.7"
  }
 },
 "nbformat": 4,
 "nbformat_minor": 4
}
