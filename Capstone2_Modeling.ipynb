{
 "cells": [
  {
   "cell_type": "markdown",
   "metadata": {},
   "source": [
    "# Capstone 2: Modeling"
   ]
  },
  {
   "cell_type": "code",
   "execution_count": 1,
   "metadata": {},
   "outputs": [],
   "source": [
    "# imports\n",
    "import pandas as pd\n",
    "import numpy as np\n",
    "from sklearn.tree import DecisionTreeClassifier\n",
    "from sklearn.ensemble import RandomForestClassifier\n",
    "from sklearn.metrics import accuracy_score, classification_report\n",
    "from sklearn.model_selection import GridSearchCV"
   ]
  },
  {
   "cell_type": "code",
   "execution_count": 2,
   "metadata": {},
   "outputs": [],
   "source": [
    "# read data\n",
    "# drop unnamed column\n",
    "X_train = pd.read_csv('X_train.csv')\n",
    "X_test = pd.read_csv('X_test.csv')\n",
    "y_train = pd.read_csv('y_train.csv')\n",
    "y_test = pd.read_csv('y_test.csv')"
   ]
  },
  {
   "cell_type": "code",
   "execution_count": 3,
   "metadata": {},
   "outputs": [
    {
     "data": {
      "text/html": [
       "<div>\n",
       "<style scoped>\n",
       "    .dataframe tbody tr th:only-of-type {\n",
       "        vertical-align: middle;\n",
       "    }\n",
       "\n",
       "    .dataframe tbody tr th {\n",
       "        vertical-align: top;\n",
       "    }\n",
       "\n",
       "    .dataframe thead th {\n",
       "        text-align: right;\n",
       "    }\n",
       "</style>\n",
       "<table border=\"1\" class=\"dataframe\">\n",
       "  <thead>\n",
       "    <tr style=\"text-align: right;\">\n",
       "      <th></th>\n",
       "      <th>tree_dbh</th>\n",
       "      <th>latitude</th>\n",
       "      <th>longitude</th>\n",
       "      <th>curb_loc_OffsetFromCurb</th>\n",
       "      <th>curb_loc_OnCurb</th>\n",
       "      <th>spc_common_'Schubert' chokecherry</th>\n",
       "      <th>spc_common_American beech</th>\n",
       "      <th>spc_common_American elm</th>\n",
       "      <th>spc_common_American hophornbeam</th>\n",
       "      <th>spc_common_American hornbeam</th>\n",
       "      <th>...</th>\n",
       "      <th>brch_light_Yes</th>\n",
       "      <th>brch_shoe_No</th>\n",
       "      <th>brch_shoe_Yes</th>\n",
       "      <th>brch_other_No</th>\n",
       "      <th>brch_other_Yes</th>\n",
       "      <th>borough_Bronx</th>\n",
       "      <th>borough_Brooklyn</th>\n",
       "      <th>borough_Manhattan</th>\n",
       "      <th>borough_Queens</th>\n",
       "      <th>borough_Staten Island</th>\n",
       "    </tr>\n",
       "  </thead>\n",
       "  <tbody>\n",
       "    <tr>\n",
       "      <th>0</th>\n",
       "      <td>0.218518</td>\n",
       "      <td>0.116105</td>\n",
       "      <td>0.795970</td>\n",
       "      <td>0</td>\n",
       "      <td>1</td>\n",
       "      <td>0</td>\n",
       "      <td>0</td>\n",
       "      <td>0</td>\n",
       "      <td>0</td>\n",
       "      <td>0</td>\n",
       "      <td>...</td>\n",
       "      <td>0</td>\n",
       "      <td>1</td>\n",
       "      <td>0</td>\n",
       "      <td>1</td>\n",
       "      <td>0</td>\n",
       "      <td>0</td>\n",
       "      <td>0</td>\n",
       "      <td>0</td>\n",
       "      <td>1</td>\n",
       "      <td>0</td>\n",
       "    </tr>\n",
       "    <tr>\n",
       "      <th>1</th>\n",
       "      <td>0.511784</td>\n",
       "      <td>-0.542404</td>\n",
       "      <td>-0.282504</td>\n",
       "      <td>1</td>\n",
       "      <td>0</td>\n",
       "      <td>0</td>\n",
       "      <td>0</td>\n",
       "      <td>0</td>\n",
       "      <td>0</td>\n",
       "      <td>0</td>\n",
       "      <td>...</td>\n",
       "      <td>0</td>\n",
       "      <td>1</td>\n",
       "      <td>0</td>\n",
       "      <td>1</td>\n",
       "      <td>0</td>\n",
       "      <td>0</td>\n",
       "      <td>1</td>\n",
       "      <td>0</td>\n",
       "      <td>0</td>\n",
       "      <td>0</td>\n",
       "    </tr>\n",
       "    <tr>\n",
       "      <th>2</th>\n",
       "      <td>-0.323348</td>\n",
       "      <td>0.135166</td>\n",
       "      <td>0.355613</td>\n",
       "      <td>0</td>\n",
       "      <td>1</td>\n",
       "      <td>0</td>\n",
       "      <td>0</td>\n",
       "      <td>0</td>\n",
       "      <td>0</td>\n",
       "      <td>0</td>\n",
       "      <td>...</td>\n",
       "      <td>0</td>\n",
       "      <td>1</td>\n",
       "      <td>0</td>\n",
       "      <td>0</td>\n",
       "      <td>1</td>\n",
       "      <td>0</td>\n",
       "      <td>0</td>\n",
       "      <td>0</td>\n",
       "      <td>1</td>\n",
       "      <td>0</td>\n",
       "    </tr>\n",
       "    <tr>\n",
       "      <th>3</th>\n",
       "      <td>-0.074749</td>\n",
       "      <td>1.571412</td>\n",
       "      <td>0.117033</td>\n",
       "      <td>0</td>\n",
       "      <td>1</td>\n",
       "      <td>0</td>\n",
       "      <td>0</td>\n",
       "      <td>0</td>\n",
       "      <td>0</td>\n",
       "      <td>0</td>\n",
       "      <td>...</td>\n",
       "      <td>0</td>\n",
       "      <td>1</td>\n",
       "      <td>0</td>\n",
       "      <td>1</td>\n",
       "      <td>0</td>\n",
       "      <td>1</td>\n",
       "      <td>0</td>\n",
       "      <td>0</td>\n",
       "      <td>0</td>\n",
       "      <td>0</td>\n",
       "    </tr>\n",
       "    <tr>\n",
       "      <th>4</th>\n",
       "      <td>-0.589734</td>\n",
       "      <td>0.076934</td>\n",
       "      <td>0.231816</td>\n",
       "      <td>0</td>\n",
       "      <td>1</td>\n",
       "      <td>0</td>\n",
       "      <td>0</td>\n",
       "      <td>0</td>\n",
       "      <td>0</td>\n",
       "      <td>0</td>\n",
       "      <td>...</td>\n",
       "      <td>0</td>\n",
       "      <td>1</td>\n",
       "      <td>0</td>\n",
       "      <td>1</td>\n",
       "      <td>0</td>\n",
       "      <td>0</td>\n",
       "      <td>0</td>\n",
       "      <td>0</td>\n",
       "      <td>1</td>\n",
       "      <td>0</td>\n",
       "    </tr>\n",
       "  </tbody>\n",
       "</table>\n",
       "<p>5 rows × 170 columns</p>\n",
       "</div>"
      ],
      "text/plain": [
       "   tree_dbh  latitude  longitude  curb_loc_OffsetFromCurb  curb_loc_OnCurb  \\\n",
       "0  0.218518  0.116105   0.795970                        0                1   \n",
       "1  0.511784 -0.542404  -0.282504                        1                0   \n",
       "2 -0.323348  0.135166   0.355613                        0                1   \n",
       "3 -0.074749  1.571412   0.117033                        0                1   \n",
       "4 -0.589734  0.076934   0.231816                        0                1   \n",
       "\n",
       "   spc_common_'Schubert' chokecherry  spc_common_American beech  \\\n",
       "0                                  0                          0   \n",
       "1                                  0                          0   \n",
       "2                                  0                          0   \n",
       "3                                  0                          0   \n",
       "4                                  0                          0   \n",
       "\n",
       "   spc_common_American elm  spc_common_American hophornbeam  \\\n",
       "0                        0                                0   \n",
       "1                        0                                0   \n",
       "2                        0                                0   \n",
       "3                        0                                0   \n",
       "4                        0                                0   \n",
       "\n",
       "   spc_common_American hornbeam  ...  brch_light_Yes  brch_shoe_No  \\\n",
       "0                             0  ...               0             1   \n",
       "1                             0  ...               0             1   \n",
       "2                             0  ...               0             1   \n",
       "3                             0  ...               0             1   \n",
       "4                             0  ...               0             1   \n",
       "\n",
       "   brch_shoe_Yes  brch_other_No  brch_other_Yes  borough_Bronx  \\\n",
       "0              0              1               0              0   \n",
       "1              0              1               0              0   \n",
       "2              0              0               1              0   \n",
       "3              0              1               0              1   \n",
       "4              0              1               0              0   \n",
       "\n",
       "   borough_Brooklyn  borough_Manhattan  borough_Queens  borough_Staten Island  \n",
       "0                 0                  0               1                      0  \n",
       "1                 1                  0               0                      0  \n",
       "2                 0                  0               1                      0  \n",
       "3                 0                  0               0                      0  \n",
       "4                 0                  0               1                      0  \n",
       "\n",
       "[5 rows x 170 columns]"
      ]
     },
     "execution_count": 3,
     "metadata": {},
     "output_type": "execute_result"
    }
   ],
   "source": [
    "# check training data\n",
    "X_train.head()"
   ]
  },
  {
   "cell_type": "code",
   "execution_count": 4,
   "metadata": {},
   "outputs": [
    {
     "data": {
      "text/html": [
       "<div>\n",
       "<style scoped>\n",
       "    .dataframe tbody tr th:only-of-type {\n",
       "        vertical-align: middle;\n",
       "    }\n",
       "\n",
       "    .dataframe tbody tr th {\n",
       "        vertical-align: top;\n",
       "    }\n",
       "\n",
       "    .dataframe thead th {\n",
       "        text-align: right;\n",
       "    }\n",
       "</style>\n",
       "<table border=\"1\" class=\"dataframe\">\n",
       "  <thead>\n",
       "    <tr style=\"text-align: right;\">\n",
       "      <th></th>\n",
       "      <th>0</th>\n",
       "    </tr>\n",
       "  </thead>\n",
       "  <tbody>\n",
       "    <tr>\n",
       "      <th>0</th>\n",
       "      <td>0</td>\n",
       "    </tr>\n",
       "    <tr>\n",
       "      <th>1</th>\n",
       "      <td>1</td>\n",
       "    </tr>\n",
       "    <tr>\n",
       "      <th>2</th>\n",
       "      <td>2</td>\n",
       "    </tr>\n",
       "    <tr>\n",
       "      <th>3</th>\n",
       "      <td>0</td>\n",
       "    </tr>\n",
       "    <tr>\n",
       "      <th>4</th>\n",
       "      <td>2</td>\n",
       "    </tr>\n",
       "  </tbody>\n",
       "</table>\n",
       "</div>"
      ],
      "text/plain": [
       "   0\n",
       "0  0\n",
       "1  1\n",
       "2  2\n",
       "3  0\n",
       "4  2"
      ]
     },
     "execution_count": 4,
     "metadata": {},
     "output_type": "execute_result"
    }
   ],
   "source": [
    "y_train.head()"
   ]
  },
  {
   "cell_type": "markdown",
   "metadata": {},
   "source": [
    "## Decision Tree Classifier"
   ]
  },
  {
   "cell_type": "code",
   "execution_count": 5,
   "metadata": {},
   "outputs": [
    {
     "data": {
      "text/plain": [
       "DecisionTreeClassifier()"
      ]
     },
     "execution_count": 5,
     "metadata": {},
     "output_type": "execute_result"
    }
   ],
   "source": [
    "# create and fit decision tree classifier\n",
    "dtc = DecisionTreeClassifier()\n",
    "dtc.fit(X_train, y_train)"
   ]
  },
  {
   "cell_type": "code",
   "execution_count": 6,
   "metadata": {},
   "outputs": [],
   "source": [
    "# make predictions on train and test sets\n",
    "dtc_tr_pred = dtc.predict(X_train)\n",
    "dtc_te_pred = dtc.predict(X_test)"
   ]
  },
  {
   "cell_type": "code",
   "execution_count": 7,
   "metadata": {},
   "outputs": [
    {
     "name": "stdout",
     "output_type": "stream",
     "text": [
      "dtc training accuracy:  0.9999933168370595\n",
      "dtc testing accuracy:  0.777243868208247\n"
     ]
    }
   ],
   "source": [
    "# dtc model accuracy scores\n",
    "dtc_tr_accuracy = accuracy_score(y_train, dtc_tr_pred)\n",
    "dtc_te_accuracy = accuracy_score(y_test, dtc_te_pred)\n",
    "print('dtc training accuracy: ', dtc_tr_accuracy)\n",
    "print('dtc testing accuracy: ', dtc_te_accuracy)"
   ]
  },
  {
   "cell_type": "code",
   "execution_count": 8,
   "metadata": {},
   "outputs": [
    {
     "name": "stdout",
     "output_type": "stream",
     "text": [
      "dtc training classification report:                precision    recall  f1-score   support\n",
      "\n",
      "           0       1.00      1.00      1.00    399013\n",
      "           1       1.00      1.00      1.00    399012\n",
      "           2       1.00      1.00      1.00    399013\n",
      "\n",
      "    accuracy                           1.00   1197038\n",
      "   macro avg       1.00      1.00      1.00   1197038\n",
      "weighted avg       1.00      1.00      1.00   1197038\n",
      "\n",
      "dtc testing classifiication report:                precision    recall  f1-score   support\n",
      "\n",
      "           0       0.72      0.72      0.72     99753\n",
      "           1       0.80      0.78      0.79     99754\n",
      "           2       0.81      0.84      0.82     99753\n",
      "\n",
      "    accuracy                           0.78    299260\n",
      "   macro avg       0.78      0.78      0.78    299260\n",
      "weighted avg       0.78      0.78      0.78    299260\n",
      "\n"
     ]
    }
   ],
   "source": [
    "# dtc model classification reports\n",
    "dtc_tr_class_rep = classification_report(y_train, dtc_tr_pred)\n",
    "dtc_te_class_rep = classification_report(y_test, dtc_te_pred)\n",
    "print('dtc training classification report: ', dtc_tr_class_rep)\n",
    "print('dtc testing classifiication report: ', dtc_te_class_rep)"
   ]
  },
  {
   "cell_type": "markdown",
   "metadata": {},
   "source": [
    "## Hyperparameter Tuning"
   ]
  },
  {
   "cell_type": "code",
   "execution_count": 9,
   "metadata": {},
   "outputs": [
    {
     "data": {
      "text/plain": [
       "dict_keys(['ccp_alpha', 'class_weight', 'criterion', 'max_depth', 'max_features', 'max_leaf_nodes', 'min_impurity_decrease', 'min_samples_leaf', 'min_samples_split', 'min_weight_fraction_leaf', 'random_state', 'splitter'])"
      ]
     },
     "execution_count": 9,
     "metadata": {},
     "output_type": "execute_result"
    }
   ],
   "source": [
    "# get parameters for dtc\n",
    "dtc.get_params().keys()"
   ]
  },
  {
   "cell_type": "code",
   "execution_count": 10,
   "metadata": {},
   "outputs": [],
   "source": [
    "# dtc param grid\n",
    "dtc_param_grid = {\n",
    "    'criterion': ['gini', 'entropy'],\n",
    "    'max_features': [5, 20, 100, 150, 170],\n",
    "    'max_depth': range(3,10)\n",
    "}"
   ]
  },
  {
   "cell_type": "code",
   "execution_count": 11,
   "metadata": {},
   "outputs": [],
   "source": [
    "# Grid search cv for dtc\n",
    "dtc_grid_cv = GridSearchCV(dtc, param_grid=dtc_param_grid, cv=5)"
   ]
  },
  {
   "cell_type": "code",
   "execution_count": 12,
   "metadata": {},
   "outputs": [
    {
     "data": {
      "text/plain": [
       "GridSearchCV(cv=5, estimator=DecisionTreeClassifier(),\n",
       "             param_grid={'criterion': ['gini', 'entropy'],\n",
       "                         'max_depth': range(3, 10),\n",
       "                         'max_features': [5, 20, 100, 150, 170]})"
      ]
     },
     "execution_count": 12,
     "metadata": {},
     "output_type": "execute_result"
    }
   ],
   "source": [
    "# fit model\n",
    "dtc_grid_cv.fit(X_train, y_train)\n"
   ]
  },
  {
   "cell_type": "code",
   "execution_count": 13,
   "metadata": {},
   "outputs": [],
   "source": [
    "# score model\n",
    "dtc_grid_mean = dtc_grid_cv.cv_results_['mean_test_score']\n",
    "dtc_grid_std = dtc_grid_cv.cv_results_['std_test_score']"
   ]
  },
  {
   "cell_type": "code",
   "execution_count": 14,
   "metadata": {},
   "outputs": [],
   "source": [
    "# find best parameters\n",
    "dtc_best = dtc_grid_cv.best_params_"
   ]
  },
  {
   "cell_type": "code",
   "execution_count": 15,
   "metadata": {},
   "outputs": [
    {
     "data": {
      "text/plain": [
       "DecisionTreeClassifier(max_depth=9, max_features=150)"
      ]
     },
     "execution_count": 15,
     "metadata": {},
     "output_type": "execute_result"
    }
   ],
   "source": [
    "# fit model\n",
    "dtc_best_model = DecisionTreeClassifier(**dtc_best)\n",
    "dtc_best_model.fit(X_train, y_train)"
   ]
  },
  {
   "cell_type": "code",
   "execution_count": 16,
   "metadata": {},
   "outputs": [],
   "source": [
    "# make predictions\n",
    "dtc_best_tr_pred = dtc_best_model.predict(X_train)\n",
    "dtc_best_te_pred = dtc_best_model.predict(X_test)"
   ]
  },
  {
   "cell_type": "code",
   "execution_count": 17,
   "metadata": {},
   "outputs": [
    {
     "name": "stdout",
     "output_type": "stream",
     "text": [
      "dtc best training accuracy:  0.49312302533419994\n",
      "dtc best testing accuracy:  0.49096772037692976\n"
     ]
    }
   ],
   "source": [
    "# dtc model accuracy scores\n",
    "dtc_best_tr_accuracy = accuracy_score(y_train, dtc_best_tr_pred)\n",
    "dtc_best_te_accuracy = accuracy_score(y_test, dtc_best_te_pred)\n",
    "print('dtc best training accuracy: ', dtc_best_tr_accuracy)\n",
    "print('dtc best testing accuracy: ', dtc_best_te_accuracy)"
   ]
  },
  {
   "cell_type": "markdown",
   "metadata": {},
   "source": [
    "#### Notes:\n",
    "* Model performance decreased significantly\n",
    "* What parameter values should I test instead for the grid search CV? \n",
    "* I could not run the random forest model CV because of computer limitations (but new computer is on the way!) \n",
    "* I tried undersampling (instead of oversampling) in order to run logistic regression/random forest, but model performance for all models decreased significantly \n",
    "* Once my new computer arrives, I will re-run all models and resubmit the assignment"
   ]
  },
  {
   "cell_type": "code",
   "execution_count": null,
   "metadata": {},
   "outputs": [],
   "source": []
  }
 ],
 "metadata": {
  "kernelspec": {
   "display_name": "Python 3",
   "language": "python",
   "name": "python3"
  },
  "language_info": {
   "codemirror_mode": {
    "name": "ipython",
    "version": 3
   },
   "file_extension": ".py",
   "mimetype": "text/x-python",
   "name": "python",
   "nbconvert_exporter": "python",
   "pygments_lexer": "ipython3",
   "version": "3.8.5"
  }
 },
 "nbformat": 4,
 "nbformat_minor": 4
}
