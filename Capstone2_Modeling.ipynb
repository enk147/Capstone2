{
 "cells": [
  {
   "cell_type": "markdown",
   "metadata": {},
   "source": [
    "# Capstone 2: Modeling"
   ]
  },
  {
   "cell_type": "code",
   "execution_count": 1,
   "metadata": {},
   "outputs": [],
   "source": [
    "# imports\n",
    "import pandas as pd\n",
    "import numpy as np\n",
    "from sklearn.linear_model import LogisticRegression\n",
    "from sklearn.tree import DecisionTreeClassifier\n",
    "from sklearn.ensemble import RandomForestClassifier\n",
    "from sklearn.metrics import accuracy_score, classification_report"
   ]
  },
  {
   "cell_type": "code",
   "execution_count": 2,
   "metadata": {},
   "outputs": [],
   "source": [
    "# read data\n",
    "# drop unnamed column\n",
    "X_train = pd.read_csv('X_train.csv')\n",
    "X_test = pd.read_csv('X_test.csv')\n",
    "y_train = pd.read_csv('y_train.csv')\n",
    "y_test = pd.read_csv('y_test.csv')"
   ]
  },
  {
   "cell_type": "code",
   "execution_count": 3,
   "metadata": {},
   "outputs": [
    {
     "data": {
      "text/html": [
       "<div>\n",
       "<style scoped>\n",
       "    .dataframe tbody tr th:only-of-type {\n",
       "        vertical-align: middle;\n",
       "    }\n",
       "\n",
       "    .dataframe tbody tr th {\n",
       "        vertical-align: top;\n",
       "    }\n",
       "\n",
       "    .dataframe thead th {\n",
       "        text-align: right;\n",
       "    }\n",
       "</style>\n",
       "<table border=\"1\" class=\"dataframe\">\n",
       "  <thead>\n",
       "    <tr style=\"text-align: right;\">\n",
       "      <th></th>\n",
       "      <th>tree_dbh</th>\n",
       "      <th>latitude</th>\n",
       "      <th>longitude</th>\n",
       "      <th>curb_loc_OffsetFromCurb</th>\n",
       "      <th>curb_loc_OnCurb</th>\n",
       "      <th>spc_common_'Schubert' chokecherry</th>\n",
       "      <th>spc_common_American beech</th>\n",
       "      <th>spc_common_American elm</th>\n",
       "      <th>spc_common_American hophornbeam</th>\n",
       "      <th>spc_common_American hornbeam</th>\n",
       "      <th>...</th>\n",
       "      <th>brch_light_Yes</th>\n",
       "      <th>brch_shoe_No</th>\n",
       "      <th>brch_shoe_Yes</th>\n",
       "      <th>brch_other_No</th>\n",
       "      <th>brch_other_Yes</th>\n",
       "      <th>borough_Bronx</th>\n",
       "      <th>borough_Brooklyn</th>\n",
       "      <th>borough_Manhattan</th>\n",
       "      <th>borough_Queens</th>\n",
       "      <th>borough_Staten Island</th>\n",
       "    </tr>\n",
       "  </thead>\n",
       "  <tbody>\n",
       "    <tr>\n",
       "      <th>0</th>\n",
       "      <td>-0.493738</td>\n",
       "      <td>0.695033</td>\n",
       "      <td>-0.479777</td>\n",
       "      <td>0</td>\n",
       "      <td>1</td>\n",
       "      <td>0</td>\n",
       "      <td>0</td>\n",
       "      <td>0</td>\n",
       "      <td>0</td>\n",
       "      <td>0</td>\n",
       "      <td>...</td>\n",
       "      <td>0</td>\n",
       "      <td>1</td>\n",
       "      <td>0</td>\n",
       "      <td>0</td>\n",
       "      <td>1</td>\n",
       "      <td>0</td>\n",
       "      <td>0</td>\n",
       "      <td>1</td>\n",
       "      <td>0</td>\n",
       "      <td>0</td>\n",
       "    </tr>\n",
       "    <tr>\n",
       "      <th>1</th>\n",
       "      <td>-0.540621</td>\n",
       "      <td>0.399109</td>\n",
       "      <td>-0.047991</td>\n",
       "      <td>0</td>\n",
       "      <td>1</td>\n",
       "      <td>0</td>\n",
       "      <td>0</td>\n",
       "      <td>0</td>\n",
       "      <td>0</td>\n",
       "      <td>0</td>\n",
       "      <td>...</td>\n",
       "      <td>0</td>\n",
       "      <td>1</td>\n",
       "      <td>0</td>\n",
       "      <td>1</td>\n",
       "      <td>0</td>\n",
       "      <td>0</td>\n",
       "      <td>0</td>\n",
       "      <td>0</td>\n",
       "      <td>1</td>\n",
       "      <td>0</td>\n",
       "    </tr>\n",
       "    <tr>\n",
       "      <th>2</th>\n",
       "      <td>-1.237405</td>\n",
       "      <td>0.515925</td>\n",
       "      <td>1.307930</td>\n",
       "      <td>0</td>\n",
       "      <td>1</td>\n",
       "      <td>0</td>\n",
       "      <td>0</td>\n",
       "      <td>0</td>\n",
       "      <td>0</td>\n",
       "      <td>0</td>\n",
       "      <td>...</td>\n",
       "      <td>0</td>\n",
       "      <td>1</td>\n",
       "      <td>0</td>\n",
       "      <td>1</td>\n",
       "      <td>0</td>\n",
       "      <td>0</td>\n",
       "      <td>0</td>\n",
       "      <td>0</td>\n",
       "      <td>1</td>\n",
       "      <td>0</td>\n",
       "    </tr>\n",
       "    <tr>\n",
       "      <th>3</th>\n",
       "      <td>-1.101181</td>\n",
       "      <td>0.787772</td>\n",
       "      <td>0.017432</td>\n",
       "      <td>0</td>\n",
       "      <td>1</td>\n",
       "      <td>0</td>\n",
       "      <td>0</td>\n",
       "      <td>0</td>\n",
       "      <td>0</td>\n",
       "      <td>0</td>\n",
       "      <td>...</td>\n",
       "      <td>0</td>\n",
       "      <td>1</td>\n",
       "      <td>0</td>\n",
       "      <td>1</td>\n",
       "      <td>0</td>\n",
       "      <td>0</td>\n",
       "      <td>0</td>\n",
       "      <td>0</td>\n",
       "      <td>1</td>\n",
       "      <td>0</td>\n",
       "    </tr>\n",
       "    <tr>\n",
       "      <th>4</th>\n",
       "      <td>0.951684</td>\n",
       "      <td>-0.545597</td>\n",
       "      <td>0.207168</td>\n",
       "      <td>0</td>\n",
       "      <td>1</td>\n",
       "      <td>0</td>\n",
       "      <td>0</td>\n",
       "      <td>0</td>\n",
       "      <td>0</td>\n",
       "      <td>0</td>\n",
       "      <td>...</td>\n",
       "      <td>1</td>\n",
       "      <td>1</td>\n",
       "      <td>0</td>\n",
       "      <td>1</td>\n",
       "      <td>0</td>\n",
       "      <td>0</td>\n",
       "      <td>1</td>\n",
       "      <td>0</td>\n",
       "      <td>0</td>\n",
       "      <td>0</td>\n",
       "    </tr>\n",
       "  </tbody>\n",
       "</table>\n",
       "<p>5 rows × 170 columns</p>\n",
       "</div>"
      ],
      "text/plain": [
       "   tree_dbh  latitude  longitude  curb_loc_OffsetFromCurb  curb_loc_OnCurb  \\\n",
       "0 -0.493738  0.695033  -0.479777                        0                1   \n",
       "1 -0.540621  0.399109  -0.047991                        0                1   \n",
       "2 -1.237405  0.515925   1.307930                        0                1   \n",
       "3 -1.101181  0.787772   0.017432                        0                1   \n",
       "4  0.951684 -0.545597   0.207168                        0                1   \n",
       "\n",
       "   spc_common_'Schubert' chokecherry  spc_common_American beech  \\\n",
       "0                                  0                          0   \n",
       "1                                  0                          0   \n",
       "2                                  0                          0   \n",
       "3                                  0                          0   \n",
       "4                                  0                          0   \n",
       "\n",
       "   spc_common_American elm  spc_common_American hophornbeam  \\\n",
       "0                        0                                0   \n",
       "1                        0                                0   \n",
       "2                        0                                0   \n",
       "3                        0                                0   \n",
       "4                        0                                0   \n",
       "\n",
       "   spc_common_American hornbeam  ...  brch_light_Yes  brch_shoe_No  \\\n",
       "0                             0  ...               0             1   \n",
       "1                             0  ...               0             1   \n",
       "2                             0  ...               0             1   \n",
       "3                             0  ...               0             1   \n",
       "4                             0  ...               1             1   \n",
       "\n",
       "   brch_shoe_Yes  brch_other_No  brch_other_Yes  borough_Bronx  \\\n",
       "0              0              0               1              0   \n",
       "1              0              1               0              0   \n",
       "2              0              1               0              0   \n",
       "3              0              1               0              0   \n",
       "4              0              1               0              0   \n",
       "\n",
       "   borough_Brooklyn  borough_Manhattan  borough_Queens  borough_Staten Island  \n",
       "0                 0                  1               0                      0  \n",
       "1                 0                  0               1                      0  \n",
       "2                 0                  0               1                      0  \n",
       "3                 0                  0               1                      0  \n",
       "4                 1                  0               0                      0  \n",
       "\n",
       "[5 rows x 170 columns]"
      ]
     },
     "execution_count": 3,
     "metadata": {},
     "output_type": "execute_result"
    }
   ],
   "source": [
    "# check training data\n",
    "X_train.head()"
   ]
  },
  {
   "cell_type": "code",
   "execution_count": 4,
   "metadata": {},
   "outputs": [
    {
     "data": {
      "text/html": [
       "<div>\n",
       "<style scoped>\n",
       "    .dataframe tbody tr th:only-of-type {\n",
       "        vertical-align: middle;\n",
       "    }\n",
       "\n",
       "    .dataframe tbody tr th {\n",
       "        vertical-align: top;\n",
       "    }\n",
       "\n",
       "    .dataframe thead th {\n",
       "        text-align: right;\n",
       "    }\n",
       "</style>\n",
       "<table border=\"1\" class=\"dataframe\">\n",
       "  <thead>\n",
       "    <tr style=\"text-align: right;\">\n",
       "      <th></th>\n",
       "      <th>0</th>\n",
       "    </tr>\n",
       "  </thead>\n",
       "  <tbody>\n",
       "    <tr>\n",
       "      <th>0</th>\n",
       "      <td>0</td>\n",
       "    </tr>\n",
       "    <tr>\n",
       "      <th>1</th>\n",
       "      <td>0</td>\n",
       "    </tr>\n",
       "    <tr>\n",
       "      <th>2</th>\n",
       "      <td>0</td>\n",
       "    </tr>\n",
       "    <tr>\n",
       "      <th>3</th>\n",
       "      <td>2</td>\n",
       "    </tr>\n",
       "    <tr>\n",
       "      <th>4</th>\n",
       "      <td>0</td>\n",
       "    </tr>\n",
       "  </tbody>\n",
       "</table>\n",
       "</div>"
      ],
      "text/plain": [
       "   0\n",
       "0  0\n",
       "1  0\n",
       "2  0\n",
       "3  2\n",
       "4  0"
      ]
     },
     "execution_count": 4,
     "metadata": {},
     "output_type": "execute_result"
    }
   ],
   "source": [
    "y_train.head()"
   ]
  },
  {
   "cell_type": "markdown",
   "metadata": {},
   "source": [
    "## Logistic Regression"
   ]
  },
  {
   "cell_type": "code",
   "execution_count": 19,
   "metadata": {
    "scrolled": false
   },
   "outputs": [
    {
     "name": "stderr",
     "output_type": "stream",
     "text": [
      "C:\\Users\\esthe\\anaconda3\\lib\\site-packages\\sklearn\\utils\\validation.py:993: DataConversionWarning: A column-vector y was passed when a 1d array was expected. Please change the shape of y to (n_samples, ), for example using ravel().\n",
      "  y = column_or_1d(y, warn=True)\n"
     ]
    },
    {
     "data": {
      "text/plain": [
       "LogisticRegression(max_iter=5000)"
      ]
     },
     "execution_count": 19,
     "metadata": {},
     "output_type": "execute_result"
    }
   ],
   "source": [
    "# create and fit logistic regression model\n",
    "lr = LogisticRegression(max_iter=5000)\n",
    "lr.fit(X_train, y_train)"
   ]
  },
  {
   "cell_type": "code",
   "execution_count": 20,
   "metadata": {},
   "outputs": [],
   "source": [
    "# make predictions on train and test sets\n",
    "lr_tr_pred = lr.predict(X_train)\n",
    "lr_te_pred = lr.predict(X_test)"
   ]
  },
  {
   "cell_type": "code",
   "execution_count": 21,
   "metadata": {},
   "outputs": [
    {
     "name": "stdout",
     "output_type": "stream",
     "text": [
      "lr training accuracy:  0.5035134350701923\n",
      "lr testing accuracy:  0.503954198133173\n"
     ]
    }
   ],
   "source": [
    "# lr model accuracy scores\n",
    "lr_tr_accuracy = accuracy_score(y_train, lr_tr_pred)\n",
    "lr_te_accuracy = accuracy_score(y_test, lr_te_pred)\n",
    "print('lr training accuracy: ', lr_tr_accuracy)\n",
    "print('lr testing accuracy: ', lr_te_accuracy)"
   ]
  },
  {
   "cell_type": "code",
   "execution_count": 22,
   "metadata": {},
   "outputs": [
    {
     "name": "stdout",
     "output_type": "stream",
     "text": [
      "lr training classification report:                precision    recall  f1-score   support\n",
      "\n",
      "           0       0.43      0.19      0.26    349136\n",
      "           1       0.49      0.73      0.59    349136\n",
      "           2       0.55      0.59      0.57    349136\n",
      "\n",
      "    accuracy                           0.50   1047408\n",
      "   macro avg       0.49      0.50      0.47   1047408\n",
      "weighted avg       0.49      0.50      0.47   1047408\n",
      "\n",
      "lr testing classifiication report:                precision    recall  f1-score   support\n",
      "\n",
      "           0       0.43      0.19      0.26    149630\n",
      "           1       0.49      0.73      0.59    149630\n",
      "           2       0.55      0.59      0.57    149630\n",
      "\n",
      "    accuracy                           0.50    448890\n",
      "   macro avg       0.49      0.50      0.47    448890\n",
      "weighted avg       0.49      0.50      0.47    448890\n",
      "\n"
     ]
    }
   ],
   "source": [
    "# lr model classification reports\n",
    "lr_tr_class_rep = classification_report(y_train, lr_tr_pred)\n",
    "lr_te_class_rep = classification_report(y_test, lr_te_pred)\n",
    "print('lr training classification report: ', lr_tr_class_rep)\n",
    "print('lr testing classifiication report: ', lr_te_class_rep)"
   ]
  },
  {
   "cell_type": "markdown",
   "metadata": {},
   "source": [
    "* Had to re-run with higher number of max iterations\n",
    "* Relatively poor performance, even with training data?"
   ]
  },
  {
   "cell_type": "markdown",
   "metadata": {},
   "source": [
    "## Decision Tree"
   ]
  },
  {
   "cell_type": "code",
   "execution_count": 11,
   "metadata": {},
   "outputs": [
    {
     "data": {
      "text/plain": [
       "DecisionTreeClassifier()"
      ]
     },
     "execution_count": 11,
     "metadata": {},
     "output_type": "execute_result"
    }
   ],
   "source": [
    "# create and fit decision tree classifier\n",
    "dtc = DecisionTreeClassifier()\n",
    "dtc.fit(X_train, y_train)"
   ]
  },
  {
   "cell_type": "code",
   "execution_count": 12,
   "metadata": {},
   "outputs": [],
   "source": [
    "# make predictions on train and test sets\n",
    "dtc_tr_pred = dtc.predict(X_train)\n",
    "dtc_te_pred = dtc.predict(X_test)"
   ]
  },
  {
   "cell_type": "code",
   "execution_count": 13,
   "metadata": {},
   "outputs": [
    {
     "name": "stdout",
     "output_type": "stream",
     "text": [
      "dtc training accuracy:  0.9999933168354643\n",
      "dtc testing accuracy:  0.7653812738087282\n"
     ]
    }
   ],
   "source": [
    "# dtc model accuracy scores\n",
    "dtc_tr_accuracy = accuracy_score(y_train, dtc_tr_pred)\n",
    "dtc_te_accuracy = accuracy_score(y_test, dtc_te_pred)\n",
    "print('dtc training accuracy: ', dtc_tr_accuracy)\n",
    "print('dtc testing accuracy: ', dtc_te_accuracy)"
   ]
  },
  {
   "cell_type": "code",
   "execution_count": 14,
   "metadata": {},
   "outputs": [
    {
     "name": "stdout",
     "output_type": "stream",
     "text": [
      "dtc training classification report:                precision    recall  f1-score   support\n",
      "\n",
      "           0       1.00      1.00      1.00    349136\n",
      "           1       1.00      1.00      1.00    349136\n",
      "           2       1.00      1.00      1.00    349136\n",
      "\n",
      "    accuracy                           1.00   1047408\n",
      "   macro avg       1.00      1.00      1.00   1047408\n",
      "weighted avg       1.00      1.00      1.00   1047408\n",
      "\n",
      "dtc testing classifiication report:                precision    recall  f1-score   support\n",
      "\n",
      "           0       0.70      0.70      0.70    149630\n",
      "           1       0.79      0.77      0.78    149630\n",
      "           2       0.80      0.82      0.81    149630\n",
      "\n",
      "    accuracy                           0.77    448890\n",
      "   macro avg       0.77      0.77      0.77    448890\n",
      "weighted avg       0.77      0.77      0.77    448890\n",
      "\n"
     ]
    }
   ],
   "source": [
    "# dtc model classification reports\n",
    "dtc_tr_class_rep = classification_report(y_train, dtc_tr_pred)\n",
    "dtc_te_class_rep = classification_report(y_test, dtc_te_pred)\n",
    "print('dtc training classification report: ', dtc_tr_class_rep)\n",
    "print('dtc testing classifiication report: ', dtc_te_class_rep)"
   ]
  },
  {
   "cell_type": "markdown",
   "metadata": {},
   "source": [
    "## Random Forest"
   ]
  },
  {
   "cell_type": "code",
   "execution_count": 15,
   "metadata": {},
   "outputs": [
    {
     "name": "stderr",
     "output_type": "stream",
     "text": [
      "<ipython-input-15-a9309987d5ee>:3: DataConversionWarning: A column-vector y was passed when a 1d array was expected. Please change the shape of y to (n_samples,), for example using ravel().\n",
      "  rfc.fit(X_train, y_train)\n"
     ]
    },
    {
     "data": {
      "text/plain": [
       "RandomForestClassifier()"
      ]
     },
     "execution_count": 15,
     "metadata": {},
     "output_type": "execute_result"
    }
   ],
   "source": [
    "# create and fit random forest classifier\n",
    "rfc = RandomForestClassifier()\n",
    "rfc.fit(X_train, y_train)"
   ]
  },
  {
   "cell_type": "code",
   "execution_count": 16,
   "metadata": {},
   "outputs": [],
   "source": [
    "# make predictions on train and test sets\n",
    "rfc_tr_pred = rfc.predict(X_train)\n",
    "rfc_te_pred = rfc.predict(X_test)"
   ]
  },
  {
   "cell_type": "code",
   "execution_count": 17,
   "metadata": {},
   "outputs": [
    {
     "name": "stdout",
     "output_type": "stream",
     "text": [
      "dtc training accuracy:  0.9999875884087194\n",
      "dtc testing accuracy:  0.8524939294704716\n"
     ]
    }
   ],
   "source": [
    "# dtc model accuracy scores\n",
    "rfc_tr_accuracy = accuracy_score(y_train, rfc_tr_pred)\n",
    "rfc_te_accuracy = accuracy_score(y_test, rfc_te_pred)\n",
    "print('dtc training accuracy: ', rfc_tr_accuracy)\n",
    "print('dtc testing accuracy: ', rfc_te_accuracy)"
   ]
  },
  {
   "cell_type": "code",
   "execution_count": 18,
   "metadata": {},
   "outputs": [
    {
     "name": "stdout",
     "output_type": "stream",
     "text": [
      "rfc training classification report:                precision    recall  f1-score   support\n",
      "\n",
      "           0       1.00      1.00      1.00    349136\n",
      "           1       1.00      1.00      1.00    349136\n",
      "           2       1.00      1.00      1.00    349136\n",
      "\n",
      "    accuracy                           1.00   1047408\n",
      "   macro avg       1.00      1.00      1.00   1047408\n",
      "weighted avg       1.00      1.00      1.00   1047408\n",
      "\n",
      "rfc testing classifiication report:                precision    recall  f1-score   support\n",
      "\n",
      "           0       0.82      0.82      0.82    149630\n",
      "           1       0.85      0.82      0.83    149630\n",
      "           2       0.89      0.92      0.91    149630\n",
      "\n",
      "    accuracy                           0.85    448890\n",
      "   macro avg       0.85      0.85      0.85    448890\n",
      "weighted avg       0.85      0.85      0.85    448890\n",
      "\n"
     ]
    }
   ],
   "source": [
    "# rfc model classification reports\n",
    "rfc_tr_class_rep = classification_report(y_train, rfc_tr_pred)\n",
    "rfc_te_class_rep = classification_report(y_test, rfc_te_pred)\n",
    "print('rfc training classification report: ', rfc_tr_class_rep)\n",
    "print('rfc testing classifiication report: ', rfc_te_class_rep)"
   ]
  },
  {
   "cell_type": "code",
   "execution_count": null,
   "metadata": {},
   "outputs": [],
   "source": []
  },
  {
   "cell_type": "code",
   "execution_count": null,
   "metadata": {},
   "outputs": [],
   "source": []
  }
 ],
 "metadata": {
  "kernelspec": {
   "display_name": "Python 3",
   "language": "python",
   "name": "python3"
  },
  "language_info": {
   "codemirror_mode": {
    "name": "ipython",
    "version": 3
   },
   "file_extension": ".py",
   "mimetype": "text/x-python",
   "name": "python",
   "nbconvert_exporter": "python",
   "pygments_lexer": "ipython3",
   "version": "3.8.5"
  }
 },
 "nbformat": 4,
 "nbformat_minor": 4
}
